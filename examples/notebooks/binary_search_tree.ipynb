{
 "cells": [
  {
   "cell_type": "code",
   "execution_count": 1,
   "metadata": {},
   "outputs": [],
   "source": [
    "from typing import Any\n",
    "from dataclasses import dataclass"
   ]
  },
  {
   "cell_type": "code",
   "execution_count": 2,
   "metadata": {},
   "outputs": [],
   "source": [
    "@dataclass\n",
    "class Node:\n",
    "    data: Any\n",
    "    left  =  None\n",
    "    right =  None"
   ]
  },
  {
   "cell_type": "code",
   "execution_count": 85,
   "metadata": {},
   "outputs": [],
   "source": [
    "class BinaryTree:\n",
    "    \n",
    "    def __init__(self, root_data):\n",
    "        self.root = Node(root_data)\n",
    "        \n",
    "    def __repr__(self):\n",
    "        return f'BinaryTree(root_data={self.root})'\n",
    "    \n",
    "    def print_traversal(self, traversal_type):\n",
    "        if traversal_type == 'preorder':\n",
    "            return self.preorder_print(self.root, \"\")\n",
    "        elif traversal_type == 'inorder':\n",
    "            return self.inorder_print(self.root, \"\")\n",
    "        elif traversal_type == 'postorder':\n",
    "            return self.postorder_print(self.root, \"\")\n",
    "        else:\n",
    "            raise ValueError(f\"Unknown traversal type: {traversal_type}\")\n",
    "    \n",
    "    def preorder_print(self, start_node, traversal):\n",
    "        r\"\"\"Print the pre-order traversal\n",
    "        \n",
    "        Pre-order traversal: root->left->right recursive. This\n",
    "        will start with the root, then continue down the left\n",
    "        sub-tree until we reach a node where there is no left\n",
    "        child. We then visit all right nodes in the left sub-tree,\n",
    "        and repeat for this process for the right sub-tree.\n",
    "        \n",
    "        Args:\n",
    "            start_node: the node to start traversing from\n",
    "            traversal: a string that will be recursively built\n",
    "            \n",
    "        Returns:\n",
    "            traversal: the built output string\n",
    "        \"\"\"\n",
    "        if start_node:\n",
    "            traversal += f'{start_node.data}->'\n",
    "            traversal = self.preorder_print(start_node.left, traversal)\n",
    "            traversal = self.preorder_print(start_node.right, traversal)\n",
    "        return traversal\n",
    "    \n",
    "    def inorder_print(self, start_node, traversal):\n",
    "        r\"\"\"Print the in-order traversal\n",
    "        \n",
    "        Args:\n",
    "            start_node: the node to start traversing from\n",
    "            traversal: a string that will be recursively built\n",
    "            \n",
    "        Returns:\n",
    "            traversal: the built output string\n",
    "        \"\"\"\n",
    "        if start_node:\n",
    "            traversal = self.inorder_print(start_node.left, traversal)\n",
    "            traversal += f'{start_node.data}->'\n",
    "            traversal = self.inorder_print(start_node.right, traversal)\n",
    "        return traversal\n",
    "    \n",
    "    def postorder_print(self, start_node, traversal):\n",
    "        r\"\"\"Print the post-order traversal\n",
    "        \n",
    "        Args:\n",
    "            start_node: the node to start traversing from\n",
    "            traversal: a string that will be recursively built\n",
    "            \n",
    "        Returns:\n",
    "            traversal: the built output string\n",
    "        \"\"\"\n",
    "        if start_node:\n",
    "            traversal = self.postorder_print(start_node.left, traversal)\n",
    "            traversal = self.postorder_print(start_node.right, traversal)\n",
    "            traversal += f'{start_node.data}->'\n",
    "        return traversal\n",
    "    \n",
    "    def insert_left(self, data):\n",
    "        pass"
   ]
  },
  {
   "cell_type": "code",
   "execution_count": 86,
   "metadata": {},
   "outputs": [],
   "source": [
    "t = BinaryTree(1)"
   ]
  },
  {
   "cell_type": "code",
   "execution_count": 87,
   "metadata": {},
   "outputs": [],
   "source": [
    "diagram = \"\"\"      \n",
    "         1\n",
    "       /   \\        \\n\n",
    "   10         11    \\n\n",
    "  /  \\       /  \\   \\n\n",
    "20    21   30    31\n",
    "\"\"\""
   ]
  },
  {
   "cell_type": "code",
   "execution_count": 88,
   "metadata": {},
   "outputs": [
    {
     "name": "stdout",
     "output_type": "stream",
     "text": [
      "      \n",
      "         1\n",
      "       /   \\        \n",
      "\n",
      "   10         11    \n",
      "\n",
      "  /  \\       /  \\   \n",
      "\n",
      "20    21   30    31\n",
      "\n"
     ]
    }
   ],
   "source": [
    "print(diagram)"
   ]
  },
  {
   "cell_type": "code",
   "execution_count": 89,
   "metadata": {},
   "outputs": [],
   "source": [
    "t.root.left = Node(10)\n",
    "t.root.right = Node(11)\n",
    "t.root.left.left = Node(20)\n",
    "t.root.left.right = Node(21)\n",
    "t.root.right.left = Node(30)\n",
    "t.root.right.right = Node(31)"
   ]
  },
  {
   "cell_type": "code",
   "execution_count": 90,
   "metadata": {},
   "outputs": [
    {
     "data": {
      "text/plain": [
       "'1->10->20->21->11->30->31->'"
      ]
     },
     "execution_count": 90,
     "metadata": {},
     "output_type": "execute_result"
    }
   ],
   "source": [
    "t.print_traversal(\"preorder\")"
   ]
  },
  {
   "cell_type": "code",
   "execution_count": 91,
   "metadata": {},
   "outputs": [
    {
     "data": {
      "text/plain": [
       "'20->10->21->1->30->11->31->'"
      ]
     },
     "execution_count": 91,
     "metadata": {},
     "output_type": "execute_result"
    }
   ],
   "source": [
    "t.print_traversal(\"inorder\")"
   ]
  },
  {
   "cell_type": "code",
   "execution_count": 92,
   "metadata": {},
   "outputs": [
    {
     "data": {
      "text/plain": [
       "'20->21->10->30->31->11->1->'"
      ]
     },
     "execution_count": 92,
     "metadata": {},
     "output_type": "execute_result"
    }
   ],
   "source": [
    "t.print_traversal(\"postorder\")"
   ]
  },
  {
   "cell_type": "code",
   "execution_count": null,
   "metadata": {},
   "outputs": [],
   "source": []
  }
 ],
 "metadata": {
  "kernelspec": {
   "display_name": "Python 3",
   "language": "python",
   "name": "python3"
  },
  "language_info": {
   "codemirror_mode": {
    "name": "ipython",
    "version": 3
   },
   "file_extension": ".py",
   "mimetype": "text/x-python",
   "name": "python",
   "nbconvert_exporter": "python",
   "pygments_lexer": "ipython3",
   "version": "3.7.6"
  }
 },
 "nbformat": 4,
 "nbformat_minor": 4
}
