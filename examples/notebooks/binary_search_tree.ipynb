{
 "cells": [
  {
   "cell_type": "code",
   "execution_count": 1,
   "metadata": {},
   "outputs": [],
   "source": [
    "import random\n",
    "from typing import Any\n",
    "from dataclasses import dataclass\n",
    "\n",
    "from algo.structures.binary_search_tree import BinarySearchTree"
   ]
  },
  {
   "cell_type": "code",
   "execution_count": 2,
   "metadata": {},
   "outputs": [],
   "source": [
    "diagram = \"\"\"      \n",
    "         1\n",
    "       /   \\        \\n\n",
    "   10         11    \\n\n",
    "  /  \\       /  \\   \\n\n",
    "20    21   30    31\n",
    "\"\"\""
   ]
  },
  {
   "cell_type": "code",
   "execution_count": 3,
   "metadata": {},
   "outputs": [
    {
     "name": "stdout",
     "output_type": "stream",
     "text": [
      "      \n",
      "         1\n",
      "       /   \\        \n",
      "\n",
      "   10         11    \n",
      "\n",
      "  /  \\       /  \\   \n",
      "\n",
      "20    21   30    31\n",
      "\n"
     ]
    }
   ],
   "source": [
    "print(diagram)"
   ]
  },
  {
   "cell_type": "code",
   "execution_count": 4,
   "metadata": {},
   "outputs": [],
   "source": [
    "def create_diagram_manually(tree):\n",
    "    tree.root = Node(1)\n",
    "    tree.root.left = Node(10)\n",
    "    tree.root.right = Node(11)\n",
    "    tree.root.left.left = Node(20)\n",
    "    tree.root.left.right = Node(21)\n",
    "    tree.root.right.left = Node(30)\n",
    "    tree.root.right.right = Node(31)\n",
    "    return tree"
   ]
  },
  {
   "cell_type": "code",
   "execution_count": 5,
   "metadata": {},
   "outputs": [],
   "source": [
    "t = BinarySearchTree()"
   ]
  },
  {
   "cell_type": "code",
   "execution_count": 6,
   "metadata": {},
   "outputs": [],
   "source": [
    "random_values = [random.randint(0, 25) for x in range(10)]"
   ]
  },
  {
   "cell_type": "code",
   "execution_count": 7,
   "metadata": {},
   "outputs": [],
   "source": [
    "for data in random_values:\n",
    "    t.insert(data)"
   ]
  },
  {
   "cell_type": "code",
   "execution_count": 8,
   "metadata": {},
   "outputs": [
    {
     "data": {
      "text/plain": [
       "'19->1->3->4->6->23->22->'"
      ]
     },
     "execution_count": 8,
     "metadata": {},
     "output_type": "execute_result"
    }
   ],
   "source": [
    "t.print_traversal(\"preorder\")"
   ]
  },
  {
   "cell_type": "code",
   "execution_count": 9,
   "metadata": {},
   "outputs": [
    {
     "data": {
      "text/plain": [
       "'1->3->4->6->19->22->23->'"
      ]
     },
     "execution_count": 9,
     "metadata": {},
     "output_type": "execute_result"
    }
   ],
   "source": [
    "t.print_traversal(\"inorder\")"
   ]
  },
  {
   "cell_type": "code",
   "execution_count": 10,
   "metadata": {},
   "outputs": [
    {
     "data": {
      "text/plain": [
       "'6->4->3->1->22->23->19->'"
      ]
     },
     "execution_count": 10,
     "metadata": {},
     "output_type": "execute_result"
    }
   ],
   "source": [
    "t.print_traversal(\"postorder\")"
   ]
  },
  {
   "cell_type": "code",
   "execution_count": 11,
   "metadata": {},
   "outputs": [
    {
     "data": {
      "text/plain": [
       "'1->3->4->6->19->22->23->'"
      ]
     },
     "execution_count": 11,
     "metadata": {},
     "output_type": "execute_result"
    }
   ],
   "source": [
    "t.print_traversal(\"inorder\")"
   ]
  },
  {
   "cell_type": "code",
   "execution_count": 12,
   "metadata": {},
   "outputs": [
    {
     "data": {
      "text/plain": [
       "5"
      ]
     },
     "execution_count": 12,
     "metadata": {},
     "output_type": "execute_result"
    }
   ],
   "source": [
    "t.height()"
   ]
  },
  {
   "cell_type": "code",
   "execution_count": 13,
   "metadata": {},
   "outputs": [
    {
     "data": {
      "text/plain": [
       "False"
      ]
     },
     "execution_count": 13,
     "metadata": {},
     "output_type": "execute_result"
    }
   ],
   "source": [
    "t.search(25)"
   ]
  },
  {
   "cell_type": "code",
   "execution_count": 14,
   "metadata": {},
   "outputs": [],
   "source": [
    "values = [x for x in range(30)]"
   ]
  },
  {
   "cell_type": "code",
   "execution_count": 15,
   "metadata": {},
   "outputs": [],
   "source": [
    "tree = BinarySearchTree()"
   ]
  },
  {
   "cell_type": "code",
   "execution_count": 16,
   "metadata": {},
   "outputs": [],
   "source": [
    "for v in values:\n",
    "    tree.insert(v)"
   ]
  },
  {
   "cell_type": "code",
   "execution_count": 17,
   "metadata": {},
   "outputs": [
    {
     "data": {
      "text/plain": [
       "30"
      ]
     },
     "execution_count": 17,
     "metadata": {},
     "output_type": "execute_result"
    }
   ],
   "source": [
    "tree.height()"
   ]
  },
  {
   "cell_type": "code",
   "execution_count": 18,
   "metadata": {},
   "outputs": [
    {
     "name": "stdout",
     "output_type": "stream",
     "text": [
      "node_repr: 0\n",
      "node_repr: 1\n",
      "node_repr: 2\n",
      "node_repr: 3\n",
      "node_repr: 4\n",
      "node_repr: 5\n",
      "node_repr: 6\n",
      "node_repr: 7\n",
      "node_repr: 8\n",
      "node_repr: 9\n",
      "node_repr: 10\n",
      "node_repr: 11\n",
      "node_repr: 12\n",
      "node_repr: 13\n",
      "node_repr: 14\n",
      "node_repr: 15\n",
      "node_repr: 16\n",
      "node_repr: 17\n",
      "node_repr: 18\n",
      "node_repr: 19\n",
      "node_repr: 20\n",
      "node_repr: 21\n",
      "node_repr: 22\n",
      "node_repr: 23\n",
      "node_repr: 24\n",
      "node_repr: 25\n",
      "node_repr: 26\n",
      "node_repr: 27\n",
      "node_repr: 28\n",
      "node_repr: 29\n",
      "l_box_width: 0\n",
      "['', '']\n",
      "l_box_width: 0\n",
      "['', '']\n",
      "l_box_width: 0\n",
      "['', '']\n",
      "l_box_width: 0\n",
      "['', '']\n",
      "l_box_width: 0\n",
      "['', '']\n",
      "l_box_width: 0\n",
      "['', '']\n",
      "l_box_width: 0\n",
      "['', '']\n",
      "l_box_width: 0\n",
      "['', '']\n",
      "l_box_width: 0\n",
      "['', '']\n",
      "l_box_width: 0\n",
      "['', '']\n",
      "l_box_width: 0\n",
      "['', '']\n",
      "l_box_width: 0\n",
      "['', '']\n",
      "l_box_width: 0\n",
      "['', '']\n",
      "l_box_width: 0\n",
      "['', '']\n",
      "l_box_width: 0\n",
      "['', '']\n",
      "l_box_width: 0\n",
      "['', '']\n",
      "l_box_width: 0\n",
      "['', '']\n",
      "l_box_width: 0\n",
      "['', '']\n",
      "l_box_width: 0\n",
      "['', '']\n",
      "l_box_width: 0\n",
      "['', '']\n",
      "l_box_width: 0\n",
      "['', '']\n",
      "l_box_width: 0\n",
      "['', '']\n",
      "l_box_width: 0\n",
      "['', '']\n",
      "l_box_width: 0\n",
      "['', '']\n",
      "l_box_width: 0\n",
      "['', '']\n",
      "l_box_width: 0\n",
      "['', '']\n",
      "l_box_width: 0\n",
      "['', '']\n",
      "l_box_width: 0\n",
      "['', '']\n",
      "l_box_width: 0\n",
      "['', '']\n",
      "l_box_width: 0\n",
      "['', '']\n",
      "\n",
      "\n",
      "\n",
      "\n",
      "\n",
      "\n",
      "\n",
      "\n",
      "\n",
      "\n",
      "\n",
      "\n",
      "\n",
      "\n",
      "\n",
      "\n",
      "\n",
      "\n",
      "\n",
      "\n",
      "\n",
      "\n",
      "\n",
      "\n",
      "\n",
      "\n",
      "\n",
      "\n",
      "\n",
      "\n",
      "\n",
      "\n",
      "\n",
      "\n",
      "\n",
      "\n",
      "\n",
      "\n",
      "\n",
      "\n",
      "\n",
      "\n",
      "\n",
      "\n",
      "\n",
      "\n",
      "\n",
      "\n",
      "\n",
      "\n",
      "\n",
      "\n",
      "\n",
      "\n",
      "\n",
      "\n",
      "\n",
      "\n",
      "\n",
      "\n",
      "\n"
     ]
    }
   ],
   "source": [
    "tree.pprint()"
   ]
  },
  {
   "cell_type": "code",
   "execution_count": null,
   "metadata": {},
   "outputs": [],
   "source": []
  }
 ],
 "metadata": {
  "kernelspec": {
   "display_name": "Python 3",
   "language": "python",
   "name": "python3"
  },
  "language_info": {
   "codemirror_mode": {
    "name": "ipython",
    "version": 3
   },
   "file_extension": ".py",
   "mimetype": "text/x-python",
   "name": "python",
   "nbconvert_exporter": "python",
   "pygments_lexer": "ipython3",
   "version": "3.7.6"
  }
 },
 "nbformat": 4,
 "nbformat_minor": 4
}
