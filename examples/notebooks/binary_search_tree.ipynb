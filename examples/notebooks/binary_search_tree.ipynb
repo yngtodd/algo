{
 "cells": [
  {
   "cell_type": "code",
   "execution_count": 1,
   "metadata": {},
   "outputs": [],
   "source": [
    "from typing import Any\n",
    "from dataclasses import dataclass"
   ]
  },
  {
   "cell_type": "code",
   "execution_count": 2,
   "metadata": {},
   "outputs": [],
   "source": [
    "@dataclass\n",
    "class Node:\n",
    "    data: Any\n",
    "    left  =  None\n",
    "    right =  None"
   ]
  },
  {
   "cell_type": "code",
   "execution_count": 21,
   "metadata": {},
   "outputs": [],
   "source": [
    "class BinaryTree:\n",
    "    \n",
    "    def __init__(self, root_data):\n",
    "        self.root = Node(root_data)\n",
    "        \n",
    "    def __repr__(self):\n",
    "        return f'BinaryTree(root_data={self.root})'\n",
    "    \n",
    "    def print_traversal(self):\n",
    "        return self.preorder_print(self.root, \"\")\n",
    "    \n",
    "    def preorder_print(self, start_node, traversal):\n",
    "        r\"\"\"Print the pre-order traversal\n",
    "        \n",
    "        Pre-order traversal: root->left->right recursive\n",
    "        \n",
    "        Args:\n",
    "            start_node: the node to start traversing from\n",
    "            traversal: a string that will be recursively built\n",
    "            \n",
    "        Returns:\n",
    "            traversal: the built output string\n",
    "        \"\"\"\n",
    "        if start_node:\n",
    "            traversal += f'{start_node.data}->'\n",
    "            traversal = self.preorder_print(start_node.left, traversal)\n",
    "            traversal = self.preorder_print(start_node.right, traversal)\n",
    "            print(f'start {start_node.data}')\n",
    "            print(f'traversal = {traversal}')\n",
    "        return traversal\n",
    "    \n",
    "    def insert_left(self, data):\n",
    "        pass"
   ]
  },
  {
   "cell_type": "code",
   "execution_count": 22,
   "metadata": {},
   "outputs": [],
   "source": [
    "t = BinaryTree(1)"
   ]
  },
  {
   "cell_type": "code",
   "execution_count": 23,
   "metadata": {},
   "outputs": [],
   "source": [
    "t.root.left = Node(10)\n",
    "t.root.right = Node(11)\n",
    "t.root.left.left = Node(20)\n",
    "t.root.left.right = Node(21)\n",
    "t.root.right.left = Node(30)\n",
    "t.root.right.right = Node(31)"
   ]
  },
  {
   "cell_type": "code",
   "execution_count": 24,
   "metadata": {},
   "outputs": [
    {
     "name": "stdout",
     "output_type": "stream",
     "text": [
      "start 20\n",
      "traversal = 1->10->20->\n",
      "start 21\n",
      "traversal = 1->10->20->21->\n",
      "start 10\n",
      "traversal = 1->10->20->21->\n",
      "start 30\n",
      "traversal = 1->10->20->21->11->30->\n",
      "start 31\n",
      "traversal = 1->10->20->21->11->30->31->\n",
      "start 11\n",
      "traversal = 1->10->20->21->11->30->31->\n",
      "start 1\n",
      "traversal = 1->10->20->21->11->30->31->\n"
     ]
    },
    {
     "data": {
      "text/plain": [
       "'1->10->20->21->11->30->31->'"
      ]
     },
     "execution_count": 24,
     "metadata": {},
     "output_type": "execute_result"
    }
   ],
   "source": [
    "t.print_traversal()"
   ]
  },
  {
   "cell_type": "code",
   "execution_count": 16,
   "metadata": {},
   "outputs": [
    {
     "data": {
      "text/plain": [
       "BinaryTree(root_data=Node(data=1))"
      ]
     },
     "execution_count": 16,
     "metadata": {},
     "output_type": "execute_result"
    }
   ],
   "source": [
    "t"
   ]
  },
  {
   "cell_type": "code",
   "execution_count": null,
   "metadata": {},
   "outputs": [],
   "source": []
  }
 ],
 "metadata": {
  "kernelspec": {
   "display_name": "Python 3",
   "language": "python",
   "name": "python3"
  },
  "language_info": {
   "codemirror_mode": {
    "name": "ipython",
    "version": 3
   },
   "file_extension": ".py",
   "mimetype": "text/x-python",
   "name": "python",
   "nbconvert_exporter": "python",
   "pygments_lexer": "ipython3",
   "version": "3.7.6"
  }
 },
 "nbformat": 4,
 "nbformat_minor": 4
}
