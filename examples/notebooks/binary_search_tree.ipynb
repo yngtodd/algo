{
 "cells": [
  {
   "cell_type": "code",
   "execution_count": 2,
   "metadata": {},
   "outputs": [],
   "source": [
    "from typing import Any\n",
    "from dataclasses import dataclass"
   ]
  },
  {
   "cell_type": "code",
   "execution_count": 3,
   "metadata": {},
   "outputs": [],
   "source": [
    "@dataclass\n",
    "class Node:\n",
    "    data: Any\n",
    "    left  =  None\n",
    "    right =  None"
   ]
  },
  {
   "cell_type": "code",
   "execution_count": 73,
   "metadata": {},
   "outputs": [],
   "source": [
    "class BinarySearchTree:\n",
    "    \n",
    "    def __init__(self):\n",
    "        self.root = None\n",
    "        \n",
    "    def insert(self, data):\n",
    "        if self.root is None:\n",
    "            self.root = Node(data)\n",
    "        else:\n",
    "            self._insert(self.root, data)\n",
    "    \n",
    "    def _insert(self, current_node, data):\n",
    "        r\"\"\"Insert a new value into the tree\n",
    "        \n",
    "        Args:\n",
    "            start_node: the node to start traversing from\n",
    "            traversal: a string that will be recursively built\n",
    "            \n",
    "        Returns:\n",
    "            traversal: the built output string\n",
    "        \"\"\"\n",
    "        if current_node.data > data:\n",
    "            if current_node.left is None:\n",
    "                current_node.left = Node(data)\n",
    "            else:\n",
    "                self._insert(current_node.left, data)\n",
    "        elif current_node.data < data:\n",
    "            if current_node.right is None:\n",
    "                current_node.right = Node(data)\n",
    "            else:\n",
    "                self._insert(current_node.right, data)\n",
    "                \n",
    "    def print_traversal(self, traversal_type):\n",
    "        if traversal_type == 'preorder':\n",
    "            return self.preorder_print(self.root, \"\")\n",
    "        elif traversal_type == 'inorder':\n",
    "            return self.inorder_print(self.root, \"\")\n",
    "        elif traversal_type == 'postorder':\n",
    "            return self.postorder_print(self.root, \"\")\n",
    "        else:\n",
    "            raise ValueError(f\"Unknown traversal type: {traversal_type}\")\n",
    "    \n",
    "    def preorder_print(self, start_node, traversal):\n",
    "        r\"\"\"Print the pre-order traversal\n",
    "        \n",
    "        Pre-order traversal: root->left->right recursive. This\n",
    "        will start with the root, then continue down the left\n",
    "        sub-tree until we reach a node where there is no left\n",
    "        child. We then visit all right nodes in the left sub-tree,\n",
    "        and repeat for this process for the right sub-tree.\n",
    "        \n",
    "        Args:\n",
    "            start_node: the node to start traversing from\n",
    "            traversal: a string that will be recursively built\n",
    "            \n",
    "        Returns:\n",
    "            traversal: the built output string\n",
    "        \"\"\"\n",
    "        if start_node:\n",
    "            traversal += f'{start_node.data}->'\n",
    "            traversal = self.preorder_print(start_node.left, traversal)\n",
    "            traversal = self.preorder_print(start_node.right, traversal)\n",
    "        return traversal\n",
    "    \n",
    "    def inorder_print(self, start_node, traversal):\n",
    "        r\"\"\"Print the in-order traversal\n",
    "        \n",
    "        Args:\n",
    "            start_node: the node to start traversing from\n",
    "            traversal: a string that will be recursively built\n",
    "            \n",
    "        Returns:\n",
    "            traversal: the built output string\n",
    "        \"\"\"\n",
    "        if start_node:\n",
    "            traversal = self.inorder_print(start_node.left, traversal)\n",
    "            traversal += f'{start_node.data}->'\n",
    "            traversal = self.inorder_print(start_node.right, traversal)\n",
    "        return traversal\n",
    "    \n",
    "    def postorder_print(self, start_node, traversal):\n",
    "        r\"\"\"Print the post-order traversal\n",
    "        \n",
    "        Args:\n",
    "            start_node: the node to start traversing from\n",
    "            traversal: a string that will be recursively built\n",
    "            \n",
    "        Returns:\n",
    "            traversal: the built output string\n",
    "        \"\"\"\n",
    "        if start_node:\n",
    "            traversal = self.postorder_print(start_node.left, traversal)\n",
    "            traversal = self.postorder_print(start_node.right, traversal)\n",
    "            traversal += f'{start_node.data}->'\n",
    "        return traversal"
   ]
  },
  {
   "cell_type": "code",
   "execution_count": 74,
   "metadata": {},
   "outputs": [],
   "source": [
    "t = BinarySearchTree()"
   ]
  },
  {
   "cell_type": "code",
   "execution_count": 75,
   "metadata": {},
   "outputs": [],
   "source": [
    "t.insert(1)"
   ]
  },
  {
   "cell_type": "code",
   "execution_count": 35,
   "metadata": {},
   "outputs": [],
   "source": [
    "diagram = \"\"\"      \n",
    "         1\n",
    "       /   \\        \\n\n",
    "   10         11    \\n\n",
    "  /  \\       /  \\   \\n\n",
    "20    21   30    31\n",
    "\"\"\""
   ]
  },
  {
   "cell_type": "code",
   "execution_count": 36,
   "metadata": {},
   "outputs": [
    {
     "name": "stdout",
     "output_type": "stream",
     "text": [
      "      \n",
      "         1\n",
      "       /   \\        \n",
      "\n",
      "   10         11    \n",
      "\n",
      "  /  \\       /  \\   \n",
      "\n",
      "20    21   30    31\n",
      "\n"
     ]
    }
   ],
   "source": [
    "print(diagram)"
   ]
  },
  {
   "cell_type": "code",
   "execution_count": 37,
   "metadata": {},
   "outputs": [],
   "source": [
    "def create_diagram_manually(tree):\n",
    "    tree.root.left = Node(10)\n",
    "    tree.root.right = Node(11)\n",
    "    tree.root.left.left = Node(20)\n",
    "    tree.root.left.right = Node(21)\n",
    "    tree.root.right.left = Node(30)\n",
    "    tree.root.right.right = Node(31)\n",
    "    return tree"
   ]
  },
  {
   "cell_type": "code",
   "execution_count": 38,
   "metadata": {},
   "outputs": [
    {
     "data": {
      "text/plain": [
       "'1->'"
      ]
     },
     "execution_count": 38,
     "metadata": {},
     "output_type": "execute_result"
    }
   ],
   "source": [
    "t.print_traversal(\"preorder\")"
   ]
  },
  {
   "cell_type": "code",
   "execution_count": 39,
   "metadata": {},
   "outputs": [
    {
     "data": {
      "text/plain": [
       "'1->'"
      ]
     },
     "execution_count": 39,
     "metadata": {},
     "output_type": "execute_result"
    }
   ],
   "source": [
    "t.print_traversal(\"inorder\")"
   ]
  },
  {
   "cell_type": "code",
   "execution_count": 47,
   "metadata": {},
   "outputs": [
    {
     "data": {
      "text/plain": [
       "'1->'"
      ]
     },
     "execution_count": 47,
     "metadata": {},
     "output_type": "execute_result"
    }
   ],
   "source": [
    "t.print_traversal(\"postorder\")"
   ]
  },
  {
   "cell_type": "code",
   "execution_count": 76,
   "metadata": {},
   "outputs": [],
   "source": [
    "t.insert(0)"
   ]
  },
  {
   "cell_type": "code",
   "execution_count": 71,
   "metadata": {},
   "outputs": [],
   "source": [
    "t.insert(0)"
   ]
  },
  {
   "cell_type": "code",
   "execution_count": 80,
   "metadata": {},
   "outputs": [
    {
     "data": {
      "text/plain": [
       "'0->1->10->'"
      ]
     },
     "execution_count": 80,
     "metadata": {},
     "output_type": "execute_result"
    }
   ],
   "source": [
    "t.print_traversal(\"inorder\")"
   ]
  },
  {
   "cell_type": "code",
   "execution_count": 79,
   "metadata": {},
   "outputs": [],
   "source": [
    "t.insert(10)"
   ]
  },
  {
   "cell_type": "code",
   "execution_count": null,
   "metadata": {},
   "outputs": [],
   "source": []
  }
 ],
 "metadata": {
  "kernelspec": {
   "display_name": "Python 3",
   "language": "python",
   "name": "python3"
  },
  "language_info": {
   "codemirror_mode": {
    "name": "ipython",
    "version": 3
   },
   "file_extension": ".py",
   "mimetype": "text/x-python",
   "name": "python",
   "nbconvert_exporter": "python",
   "pygments_lexer": "ipython3",
   "version": "3.7.6"
  }
 },
 "nbformat": 4,
 "nbformat_minor": 4
}
