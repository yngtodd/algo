{
 "cells": [
  {
   "cell_type": "code",
   "execution_count": 1,
   "metadata": {},
   "outputs": [],
   "source": [
    "import random\n",
    "from typing import Any\n",
    "from dataclasses import dataclass\n",
    "\n",
    "from algo.structures.binary_search_tree import BinarySearchTree"
   ]
  },
  {
   "cell_type": "code",
   "execution_count": 2,
   "metadata": {},
   "outputs": [],
   "source": [
    "diagram = \"\"\"      \n",
    "         1\n",
    "       /   \\        \\n\n",
    "   10         11    \\n\n",
    "  /  \\       /  \\   \\n\n",
    "20    21   30    31\n",
    "\"\"\""
   ]
  },
  {
   "cell_type": "code",
   "execution_count": 3,
   "metadata": {},
   "outputs": [
    {
     "name": "stdout",
     "output_type": "stream",
     "text": [
      "      \n",
      "         1\n",
      "       /   \\        \n",
      "\n",
      "   10         11    \n",
      "\n",
      "  /  \\       /  \\   \n",
      "\n",
      "20    21   30    31\n",
      "\n"
     ]
    }
   ],
   "source": [
    "print(diagram)"
   ]
  },
  {
   "cell_type": "code",
   "execution_count": 4,
   "metadata": {},
   "outputs": [],
   "source": [
    "def create_diagram_manually(tree):\n",
    "    tree.root = Node(1)\n",
    "    tree.root.left = Node(10)\n",
    "    tree.root.right = Node(11)\n",
    "    tree.root.left.left = Node(20)\n",
    "    tree.root.left.right = Node(21)\n",
    "    tree.root.right.left = Node(30)\n",
    "    tree.root.right.right = Node(31)\n",
    "    return tree"
   ]
  },
  {
   "cell_type": "code",
   "execution_count": 5,
   "metadata": {},
   "outputs": [],
   "source": [
    "t = BinarySearchTree()"
   ]
  },
  {
   "cell_type": "code",
   "execution_count": 6,
   "metadata": {},
   "outputs": [],
   "source": [
    "random_values = [random.randint(0, 100) for x in range(15)]"
   ]
  },
  {
   "cell_type": "code",
   "execution_count": 7,
   "metadata": {},
   "outputs": [],
   "source": [
    "for data in random_values:\n",
    "    t.insert(data)"
   ]
  },
  {
   "cell_type": "code",
   "execution_count": 8,
   "metadata": {},
   "outputs": [
    {
     "data": {
      "text/plain": [
       "'45->40->36->4->26->37->50->46->97->96->86->63->62->83->100->'"
      ]
     },
     "execution_count": 8,
     "metadata": {},
     "output_type": "execute_result"
    }
   ],
   "source": [
    "t.print_traversal(\"preorder\")"
   ]
  },
  {
   "cell_type": "code",
   "execution_count": 9,
   "metadata": {},
   "outputs": [
    {
     "data": {
      "text/plain": [
       "'4->26->36->37->40->45->46->50->62->63->83->86->96->97->100->'"
      ]
     },
     "execution_count": 9,
     "metadata": {},
     "output_type": "execute_result"
    }
   ],
   "source": [
    "t.print_traversal(\"inorder\")"
   ]
  },
  {
   "cell_type": "code",
   "execution_count": 10,
   "metadata": {},
   "outputs": [
    {
     "data": {
      "text/plain": [
       "'26->4->37->36->40->46->62->83->63->86->96->100->97->50->45->'"
      ]
     },
     "execution_count": 10,
     "metadata": {},
     "output_type": "execute_result"
    }
   ],
   "source": [
    "t.print_traversal(\"postorder\")"
   ]
  },
  {
   "cell_type": "code",
   "execution_count": 11,
   "metadata": {},
   "outputs": [
    {
     "data": {
      "text/plain": [
       "7"
      ]
     },
     "execution_count": 11,
     "metadata": {},
     "output_type": "execute_result"
    }
   ],
   "source": [
    "t.height()"
   ]
  },
  {
   "cell_type": "code",
   "execution_count": 12,
   "metadata": {},
   "outputs": [
    {
     "data": {
      "text/plain": [
       "False"
      ]
     },
     "execution_count": 12,
     "metadata": {},
     "output_type": "execute_result"
    }
   ],
   "source": [
    "t.search(25)"
   ]
  },
  {
   "cell_type": "code",
   "execution_count": 13,
   "metadata": {},
   "outputs": [
    {
     "data": {
      "text/plain": [
       "7"
      ]
     },
     "execution_count": 13,
     "metadata": {},
     "output_type": "execute_result"
    }
   ],
   "source": [
    "t.height()"
   ]
  },
  {
   "cell_type": "code",
   "execution_count": 14,
   "metadata": {},
   "outputs": [
    {
     "name": "stdout",
     "output_type": "stream",
     "text": [
      "\n",
      "             -45   -------------------------\n",
      "            /      \\\n",
      "       ----40      -50               -------\n",
      "      /           /                  \\\n",
      "  ---36---       46                  -97 ---\n",
      " /     \\                            /    \\\n",
      "4---    37                        -96    100\n",
      " \\                               /\n",
      "  26                        ----86\n",
      "                           /\n",
      "                         -63---\n",
      "                        /   \\\n",
      "                       62    83\n",
      "\n"
     ]
    }
   ],
   "source": [
    "t.pprint()"
   ]
  },
  {
   "cell_type": "code",
   "execution_count": 15,
   "metadata": {},
   "outputs": [
    {
     "data": {
      "text/plain": [
       "4"
      ]
     },
     "execution_count": 15,
     "metadata": {},
     "output_type": "execute_result"
    }
   ],
   "source": [
    "t.min()"
   ]
  },
  {
   "cell_type": "code",
   "execution_count": 16,
   "metadata": {},
   "outputs": [
    {
     "data": {
      "text/plain": [
       "100"
      ]
     },
     "execution_count": 16,
     "metadata": {},
     "output_type": "execute_result"
    }
   ],
   "source": [
    "t.max()"
   ]
  },
  {
   "cell_type": "code",
   "execution_count": 17,
   "metadata": {},
   "outputs": [
    {
     "name": "stdout",
     "output_type": "stream",
     "text": [
      "\n",
      "             -45   ---------------------\n",
      "            /      \\\n",
      "       ----40      -50               ---\n",
      "      /           /                  \\\n",
      "  ---36---       46                  -97\n",
      " /     \\                            /\n",
      "4---    37                        -96\n",
      " \\                               /\n",
      "  26                        ----86\n",
      "                           /\n",
      "                         -63---\n",
      "                        /   \\\n",
      "                       62    83\n",
      "\n"
     ]
    }
   ],
   "source": [
    "t.delete(100)\n",
    "t.pprint()"
   ]
  },
  {
   "cell_type": "code",
   "execution_count": 18,
   "metadata": {},
   "outputs": [
    {
     "name": "stdout",
     "output_type": "stream",
     "text": [
      "\n",
      "             -45   ------------------\n",
      "            /      \\\n",
      "       ----40      -62            ---\n",
      "      /           /               \\\n",
      "  ---36---       46               -97\n",
      " /     \\                         /\n",
      "4---    37                     -96\n",
      " \\                            /\n",
      "  26                     ----86\n",
      "                        /\n",
      "                       63---\n",
      "                         \\\n",
      "                          83\n",
      "\n"
     ]
    }
   ],
   "source": [
    "t.delete(50)\n",
    "t.pprint()"
   ]
  },
  {
   "cell_type": "code",
   "execution_count": null,
   "metadata": {},
   "outputs": [],
   "source": []
  }
 ],
 "metadata": {
  "kernelspec": {
   "display_name": "Python 3",
   "language": "python",
   "name": "python3"
  },
  "language_info": {
   "codemirror_mode": {
    "name": "ipython",
    "version": 3
   },
   "file_extension": ".py",
   "mimetype": "text/x-python",
   "name": "python",
   "nbconvert_exporter": "python",
   "pygments_lexer": "ipython3",
   "version": "3.7.6"
  }
 },
 "nbformat": 4,
 "nbformat_minor": 4
}
